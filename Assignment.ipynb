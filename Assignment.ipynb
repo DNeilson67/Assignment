{
 "cells": [
  {
   "cell_type": "code",
   "execution_count": 17,
   "metadata": {},
   "outputs": [
    {
     "name": "stdout",
     "output_type": "stream",
     "text": [
      "314.0\n"
     ]
    }
   ],
   "source": [
    "# 1. Write a Python program which accepts the radius of a circle from the user and compute the area\n",
    "radius = float(input(\"Please enter radius value:\"))\n",
    "pi = 3.14\n",
    "area = pi*radius*radius\n",
    "print(area)"
   ]
  },
  {
   "cell_type": "code",
   "execution_count": 18,
   "metadata": {},
   "outputs": [
    {
     "name": "stdout",
     "output_type": "stream",
     "text": [
      "n d\n"
     ]
    }
   ],
   "source": [
    "# 2. Write a Python program which accepts the user's first and last name and print them in reverse order with a space between them.\n",
    "firstname=input(\"First name:\")\n",
    "lastname = input(\"Last name:\")\n",
    "print(lastname, firstname)"
   ]
  },
  {
   "cell_type": "code",
   "execution_count": 19,
   "metadata": {},
   "outputs": [
    {
     "name": "stdout",
     "output_type": "stream",
     "text": [
      "Red Black\n"
     ]
    }
   ],
   "source": [
    "#3. Write a Python program to display the first and last colors from the following list. color_list = [\"Red\",\"Green\",\"White\",\"Black\"]\n",
    "color_list = [\"Red\",\"Green\",\"White\",\"Black\"]\n",
    "print(color_list[0], color_list[-1])"
   ]
  },
  {
   "cell_type": "code",
   "execution_count": 20,
   "metadata": {},
   "outputs": [
    {
     "name": "stdout",
     "output_type": "stream",
     "text": [
      "3\n"
     ]
    }
   ],
   "source": [
    "#4 Write a Python program that accepts an integer (n) and computes the value of n+nn+nnn.\n",
    "n = int(input(\"input\"))\n",
    "total = n + n**2 + n**3\n",
    "print(total)"
   ]
  },
  {
   "cell_type": "code",
   "execution_count": 21,
   "metadata": {},
   "outputs": [
    {
     "name": "stdout",
     "output_type": "stream",
     "text": [
      "904.3199999999999\n"
     ]
    }
   ],
   "source": [
    "#5 Write a Python program to get the volume of a sphere with radius 6. The volume of the sphere is : V = 4/3 × π × r3 = π × d3/6.\n",
    "radius = 6\n",
    "pi = 3.14\n",
    "V = 4/3*pi*radius**3\n",
    "print(V)"
   ]
  },
  {
   "cell_type": "code",
   "execution_count": 22,
   "metadata": {},
   "outputs": [
    {
     "name": "stdout",
     "output_type": "stream",
     "text": [
      "\n",
      "7.0\n"
     ]
    }
   ],
   "source": [
    "#6 Write a Python program to get the difference between a given number and 17, if the number is greater than 17 return double the absolute difference\n",
    "num = float(input(\"Input a number:\"))\n",
    "dif = abs(num-17)\n",
    "if num > 17:\n",
    "    dif = dif*2\n",
    "else:\n",
    "    print()\n",
    "print(dif)\n",
    "    "
   ]
  },
  {
   "cell_type": "code",
   "execution_count": 25,
   "metadata": {},
   "outputs": [
    {
     "name": "stdout",
     "output_type": "stream",
     "text": [
      "9\n"
     ]
    }
   ],
   "source": [
    "#7 Write a Python program to calculate the sum of three given numbers, if the values are equal then return thrice of their sum.\n",
    "a = int(input(\"input 1st number:\"))\n",
    "b = int(input(\"input 2nd number:\"))\n",
    "c = int(input(\"input 3rd number:\"))\n",
    "\n",
    "d = a+b+c\n",
    "\n",
    "if a == b == c:\n",
    "    d = d*3\n",
    "    print(d)\n",
    "else:\n",
    "    print(d)\n",
    "\n"
   ]
  },
  {
   "cell_type": "code",
   "execution_count": 28,
   "metadata": {},
   "outputs": [
    {
     "name": "stdout",
     "output_type": "stream",
     "text": [
      "5 is an odd number.\n"
     ]
    }
   ],
   "source": [
    "#8 Write a Python program to find whether a given number (accept from the user) is even or odd, print out an appropriate message to the user.\n",
    "num = int(input(\"Input a number:\"))\n",
    "if num % 2 == 1:\n",
    "    print(f\"{num} is an odd number.\")\n",
    "elif num % 2 == 0:\n",
    "    print(f\"{num} is an even number.\")\n"
   ]
  },
  {
   "cell_type": "code",
   "execution_count": 29,
   "metadata": {},
   "outputs": [
    {
     "name": "stdout",
     "output_type": "stream",
     "text": [
      "The letter is not a vowel\n"
     ]
    }
   ],
   "source": [
    "#9 Write a Python program to test whether a letter is a vowel or not.\n",
    "letter = str(input(\"Input a letter:\"))\n",
    "vowel = ['a','i','e','o','u','A','I','E','O','U']\n",
    "if letter in vowel :\n",
    "    print(\"The letter is a vowel\")\n",
    "else:\n",
    "    print(\"The letter is not a vowel\")"
   ]
  },
  {
   "cell_type": "code",
   "execution_count": 30,
   "metadata": {},
   "outputs": [
    {
     "name": "stdout",
     "output_type": "stream",
     "text": [
      "The value is in the list.\n"
     ]
    }
   ],
   "source": [
    "#10 Write a Python program to check whether a specified value is contained in a group of values.\n",
    "value = {0,1,3,5,7,9}\n",
    "valueG = int(input(\"Insert a value (0-10):\"))\n",
    "if valueG in value:\n",
    "    print(\"The value is in the list.\")\n",
    "else:\n",
    "    print(\"The value is not in the list.\")\n"
   ]
  },
  {
   "cell_type": "code",
   "execution_count": null,
   "metadata": {},
   "outputs": [
    {
     "name": "stdout",
     "output_type": "stream",
     "text": [
      "**********\n",
      "****\n",
      "***\n",
      "***********************\n"
     ]
    }
   ],
   "source": [
    "#11 Write a Python program to create a histogram from a given list of integers.\n",
    "\n",
    "def histogram(items):\n",
    "    for x in items:\n",
    "        output = ''\n",
    "        times = x\n",
    "        while( times > 0 ):\n",
    "          output += '*'\n",
    "          times = times - 1\n",
    "        print(output)\n",
    "\n",
    "histogram([10,4,3,23])\n"
   ]
  },
  {
   "cell_type": "code",
   "execution_count": 31,
   "metadata": {},
   "outputs": [
    {
     "name": "stdout",
     "output_type": "stream",
     "text": [
      "386\n",
      "462\n",
      "418\n",
      "344\n",
      "236\n",
      "566\n",
      "978\n",
      "328\n",
      "162\n",
      "758\n",
      "918\n",
      "412\n",
      "566\n",
      "826\n",
      "248\n",
      "866\n",
      "950\n",
      "626\n",
      "104\n",
      "58\n",
      "512\n",
      "24\n",
      "892\n",
      "894\n",
      "742\n",
      "958\n"
     ]
    }
   ],
   "source": [
    "#12 Write a Python program to print all even numbers from a given numbers list in the same order.\n",
    "numbers = [\n",
    "386, 462, 47, 418, 907, 344, 236, 375, 823, 566, 597, 978, 328, 615, 953, 345,\n",
    "399, 162, 758, 219, 918, 237, 412, 566, 826, 248, 866, 950, 626, 949, 687, 217,\n",
    "815, 67, 104, 58, 512, 24, 892, 894, 767, 553, 81, 379, 843, 831, 445, 742, 717,\n",
    "958,743, 527 ]\n",
    "\n",
    "for i in numbers:\n",
    "    if i % 2 == 0:\n",
    "        print(i)\n",
    "        "
   ]
  },
  {
   "cell_type": "code",
   "execution_count": 32,
   "metadata": {},
   "outputs": [
    {
     "name": "stdout",
     "output_type": "stream",
     "text": [
      "50.0\n"
     ]
    }
   ],
   "source": [
    "#13 Write a Python program that will accept the base and height of a triangle and compute the area.\n",
    "base = int(input(\"Input a base number:\"))\n",
    "height = int(input(\"Input a height number:\"))\n",
    "area = 0.5*base*height\n",
    "print(area)"
   ]
  },
  {
   "cell_type": "code",
   "execution_count": 40,
   "metadata": {},
   "outputs": [
    {
     "name": "stdout",
     "output_type": "stream",
     "text": [
      "5040\n"
     ]
    }
   ],
   "source": [
    "#14 Write a Python program to get the least common multiple (LCM) of two positive integers.\n",
    "a = int(input(\"First integer:\"))\n",
    "b = int(input(\"Second integer:\"))\n",
    "\n",
    "def lcm(x, y):\n",
    "  if x > y:\n",
    "      z = x\n",
    "  else:\n",
    "      z = y\n",
    "  while(True):\n",
    "      if((z % x == 0) and (z % y == 0)):\n",
    "          lcm = z\n",
    "          break\n",
    "      z += 1\n",
    "  return lcm\n",
    "print(lcm(a, b))"
   ]
  },
  {
   "cell_type": "code",
   "execution_count": null,
   "metadata": {},
   "outputs": [
    {
     "name": "stdout",
     "output_type": "stream",
     "text": [
      "6\n"
     ]
    }
   ],
   "source": [
    "#15 Write a Python program to sum of three given integers. However, if two values are equal sum will be zero.\n",
    "a = int(input(\"input number A:\"))\n",
    "b = int(input(\"input number B:\"))\n",
    "c = int(input(\"input number C:\"))\n",
    "\n",
    "if a == b or a == c or b == c:\n",
    "    sum = 0\n",
    "else:\n",
    "    sum = a+b+c\n",
    "\n",
    "print(sum)"
   ]
  },
  {
   "cell_type": "code",
   "execution_count": null,
   "metadata": {},
   "outputs": [
    {
     "name": "stdout",
     "output_type": "stream",
     "text": [
      "(4 + 3) ^ 2) = 49\n"
     ]
    }
   ],
   "source": [
    "#16 Write a Python program to solve (x + y) * (x + y). Sample Data : x = 4, y = 3 Expected Output : (4 + 3) ^ 2) = 49\n",
    "x = 4\n",
    "y = 3\n",
    "x, y = 4, 3\n",
    "result = (x + y) * (x + y)\n",
    "print(f\"({x} + {y}) ^ 2) = {result}\")"
   ]
  },
  {
   "cell_type": "code",
   "execution_count": null,
   "metadata": {},
   "outputs": [
    {
     "name": "stdout",
     "output_type": "stream",
     "text": [
      "12450.0\n"
     ]
    }
   ],
   "source": [
    "#17 Write a Python program to compute the future value of a specified principal amount, rate of interest, and a number of years.\n",
    "amt = 10000\n",
    "int = 3.5\n",
    "years = 7\n",
    "\n",
    "value = amt *(int/100)*7\n",
    "print(amt+value)"
   ]
  },
  {
   "cell_type": "code",
   "execution_count": null,
   "metadata": {},
   "outputs": [
    {
     "name": "stdout",
     "output_type": "stream",
     "text": [
      "10,10\n"
     ]
    }
   ],
   "source": [
    "#18 Write a Python program to compute the distance between the points (x1, y1) and (x2, y2).\n",
    "x1 = int(input(\"input x1:\"))\n",
    "y1 = int(input(\"input y1:\"))\n",
    "x2 = int(input(\"input x2:\"))\n",
    "y2 = int(input(\"input y2:\"))\n",
    "\n",
    "disX = abs(x2-x1)\n",
    "disY = abs(y2-y1)\n",
    "print(disX,disY, sep = \",\")"
   ]
  },
  {
   "cell_type": "code",
   "execution_count": null,
   "metadata": {},
   "outputs": [
    {
     "name": "stdout",
     "output_type": "stream",
     "text": [
      "Sum of the first 8 positive integers:36.0 \n"
     ]
    }
   ],
   "source": [
    "#19 Write a python program to sum of the first n positive integers.\n",
    "num = int(input(\"Enter an integer:\"))\n",
    "sum = (num * (num + 1)) / 2\n",
    "print(f\"Sum of the first {num} positive integers:{sum} \")\n",
    "\n"
   ]
  },
  {
   "cell_type": "code",
   "execution_count": null,
   "metadata": {},
   "outputs": [
    {
     "name": "stdout",
     "output_type": "stream",
     "text": [
      "330.4\n"
     ]
    }
   ],
   "source": [
    "#20 Write a Python program to convert height (in feet and inches) to centimeters.\n",
    "feet = float(input(\"Input height in feet:\"))\n",
    "inches = float(input(\"Input height in inches:\"))\n",
    "feet = feet*30.5\n",
    "inches = inches*2.54\n",
    "centimeter = feet + inches\n",
    "print(centimeter)"
   ]
  },
  {
   "cell_type": "code",
   "execution_count": null,
   "metadata": {},
   "outputs": [
    {
     "name": "stdout",
     "output_type": "stream",
     "text": [
      "14.142135623730951\n"
     ]
    }
   ],
   "source": [
    "#21 Write a Python program to calculate the hypotenuse of a right angled triangle.\n",
    "import math\n",
    "a = float(input(\"Input triangle base:\"))\n",
    "b = float(input(\"Input triangle height:\"))\n",
    "c = math.sqrt(a**2 +b**2)\n",
    "print(c)"
   ]
  },
  {
   "cell_type": "code",
   "execution_count": null,
   "metadata": {},
   "outputs": [
    {
     "name": "stdout",
     "output_type": "stream",
     "text": [
      "your bmi is 26.234567901234566\n"
     ]
    }
   ],
   "source": [
    "#22 Write a Python program to calculate body mass index.\n",
    "weight = float(input(\"Input your weight (Kg):\"))\n",
    "height = float(input(\"Input your height (M):\"))\n",
    "bmi = weight/(height**2)\n",
    "print(f\"Your BMI is {bmi}\")"
   ]
  },
  {
   "cell_type": "code",
   "execution_count": null,
   "metadata": {},
   "outputs": [
    {
     "name": "stdout",
     "output_type": "stream",
     "text": [
      "The midpoint is 10.0,10.0\n"
     ]
    }
   ],
   "source": [
    "#23 Write a Python program to calculate midpoints of a line.\n",
    "x1 = int(input(\"input x1:\"))\n",
    "y1 = int(input(\"input y1:\"))\n",
    "x2 = int(input(\"input x2:\"))\n",
    "y2 = int(input(\"input y2:\"))\n",
    "\n",
    "midpointX = (x1+x2)/2 \n",
    "midpointY = (y1+y2)/2\n",
    "print(f\"The midpoint is {midpointX},{midpointY}\", sep = \",\")"
   ]
  },
  {
   "cell_type": "code",
   "execution_count": null,
   "metadata": {},
   "outputs": [
    {
     "name": "stdout",
     "output_type": "stream",
     "text": [
      "[2002, 2009, 2016, 2023, 2037, 2044, 2051, 2058, 2072, 2079, 2086, 2093, 2107, 2114, 2121, 2128, 2142, 2149, 2156, 2163, 2177, 2184, 2191, 2198, 2212, 2219, 2226, 2233, 2247, 2254, 2261, 2268, 2282, 2289, 2296, 2303, 2317, 2324, 2331, 2338, 2352, 2359, 2366, 2373, 2387, 2394, 2401, 2408, 2422, 2429, 2436, 2443, 2457, 2464, 2471, 2478, 2492, 2499, 2506, 2513, 2527, 2534, 2541, 2548, 2562, 2569, 2576, 2583, 2597, 2604, 2611, 2618, 2632, 2639, 2646, 2653, 2667, 2674, 2681, 2688, 2702, 2709, 2716, 2723, 2737, 2744, 2751, 2758, 2772, 2779, 2786, 2793, 2807, 2814, 2821, 2828, 2842, 2849, 2856, 2863, 2877, 2884, 2891, 2898, 2912, 2919, 2926, 2933, 2947, 2954, 2961, 2968, 2982, 2989, 2996, 3003, 3017, 3024, 3031, 3038, 3052, 3059, 3066, 3073, 3087, 3094, 3101, 3108, 3122, 3129, 3136, 3143, 3157, 3164, 3171, 3178, 3192, 3199]\n"
     ]
    }
   ],
   "source": [
    "#24 Write a program which will find all such numbers which are divisible by 7 but are not a multiple of 5, between 2000 and 3200 (both included). The numbers obtained should be printed in a comma-separated sequence on a single line.\n",
    "number =[]\n",
    "for i in range (2000,3201):\n",
    "    if i % 7 == 0 and i % 5 != 0:\n",
    "        number.append(i)\n",
    "print(number)\n",
    "\n"
   ]
  }
 ],
 "metadata": {
  "kernelspec": {
   "display_name": "Python 3.10.7 64-bit (microsoft store)",
   "language": "python",
   "name": "python3"
  },
  "language_info": {
   "codemirror_mode": {
    "name": "ipython",
    "version": 3
   },
   "file_extension": ".py",
   "mimetype": "text/x-python",
   "name": "python",
   "nbconvert_exporter": "python",
   "pygments_lexer": "ipython3",
   "version": "3.10.7"
  },
  "orig_nbformat": 4,
  "vscode": {
   "interpreter": {
    "hash": "250899c1d0688a775470e8d6e63e9857e38f99ac318110e25d4c1ddc4d809af2"
   }
  }
 },
 "nbformat": 4,
 "nbformat_minor": 2
}
